{
 "cells": [
  {
   "cell_type": "code",
   "execution_count": 1,
   "metadata": {},
   "outputs": [
    {
     "name": "stderr",
     "output_type": "stream",
     "text": [
      "/home/dhlee/anaconda3/envs/dh1/lib/python3.8/site-packages/tqdm/auto.py:22: TqdmWarning: IProgress not found. Please update jupyter and ipywidgets. See https://ipywidgets.readthedocs.io/en/stable/user_install.html\n",
      "  from .autonotebook import tqdm as notebook_tqdm\n"
     ]
    }
   ],
   "source": [
    "\"\"\"\n",
    "Non-parametric\n",
    "Entropy based MNIST Classifier \n",
    "Stage1 : saving MNIST Traing data entropy\n",
    "\"\"\"\n",
    "import torch \n",
    "import torchvision #[Role]:???\n",
    "from torch.utils.data import Dataset, DataLoader\n",
    "\n"
   ]
  },
  {
   "cell_type": "code",
   "execution_count": 2,
   "metadata": {},
   "outputs": [],
   "source": [
    "import os \n",
    "import time \n",
    "import pickle \n",
    "import random\n",
    "import numpy as np \n",
    "import argparse\n",
    "import datetime \n",
    "from tqdm import tqdm \n",
    "from distutils.util import strtobool\n",
    "from omegaconf import OmegaConf\n",
    "import easydict\n"
   ]
  },
  {
   "cell_type": "code",
   "execution_count": 82,
   "metadata": {},
   "outputs": [],
   "source": [
    "class MNISTWarpper(Dataset):\n",
    "    def __init__(self, root, train, transform):\n",
    "        self.data = torchvision.datasets.MNIST(root=root, train=train, transform=transform, download=True)\n",
    "    \n",
    "    def __getitem__(self, x):\n",
    "        return self.data[x]\n",
    "    \n",
    "    def __len__(self):\n",
    "        return len(self.data)\n",
    "\n",
    "def compute_entropy(digit_image):\n",
    "    assert digit_image.size() == (1, 1, 28,28)\n",
    "    digit_image = digit_image.flatten()\n",
    "    digit_image = digit_image / digit_image.sum() #[Role]:???\n",
    "    assert abs(digit_image.sum() - 1.0) < 1e-5, digit_image.sum() #[Role]:???\n",
    "    entropy =  (- digit_image * torch.nan_to_num(digit_image.log())).sum() # \\sum - p log p \n",
    "    assert entropy >=0\n",
    "    return entropy "
   ]
  },
  {
   "cell_type": "code",
   "execution_count": 102,
   "metadata": {},
   "outputs": [
    {
     "data": {
      "text/plain": [
       "{'data_path': 'untracked', 'config': 'config.yaml', 'post_fix': '', 'seed': 0, 'no_date': True, 'date': '2023_02_06-15_14_49', 'save_dir': 'results/seed-0', 'start_time': 1675664089.478833}"
      ]
     },
     "execution_count": 102,
     "metadata": {},
     "output_type": "execute_result"
    }
   ],
   "source": [
    "flags"
   ]
  },
  {
   "cell_type": "code",
   "execution_count": 25,
   "metadata": {},
   "outputs": [],
   "source": [
    " \n",
    "args = easydict.EasyDict({\n",
    "        'data_path': 'untracked',        \n",
    "        'config': 'config.yaml', \n",
    "        'post_fix': '', \n",
    "        'seed': 0, \n",
    "        'no_date': True, \n",
    " \n",
    "})"
   ]
  },
  {
   "cell_type": "code",
   "execution_count": 27,
   "metadata": {},
   "outputs": [
    {
     "name": "stdout",
     "output_type": "stream",
     "text": [
      "{'data_path': 'untracked', 'config': 'config.yaml', 'post_fix': '', 'seed': 0, 'no_date': True, 'date': '2023_02_06-15_14_49', 'save_dir': 'results/seed-0', 'start_time': 1675664089.478833}\n"
     ]
    }
   ],
   "source": [
    "\n",
    "\n",
    "flags = OmegaConf.load('./config.yaml')\n",
    "for key in vars(args):\n",
    "    setattr(flags, key, getattr(args, key))\n",
    "\n",
    "random.seed(flags.seed)\n",
    "np.random.seed(flags.seed)\n",
    "torch.manual_seed(flags.seed)\n",
    "torch.backends.cudnn.deterministic = True\n",
    "\n",
    "\n",
    "flags.date = datetime.datetime.now().strftime(format=\"%Y_%m_%d-%H_%M_%S\")\n",
    "flags.save_dir = f\"results/seed-{flags.seed}\"\n",
    "if not flags.no_date: #[Role]:???\n",
    "    flags.save_dir = flags.save_dir + f\"-{flags.date}\"\n",
    "flags.start_time = time.time()\n",
    "\n",
    "print(flags) \n",
    "\n",
    "# if not os.path.exists(flags.save_dir):\n",
    "#     os.makedirs(flags.save_dir)\n",
    "# OmegaConf.save(flags, f'{flags.save_dir}/config.yaml')"
   ]
  },
  {
   "cell_type": "code",
   "execution_count": 105,
   "metadata": {},
   "outputs": [
    {
     "name": "stderr",
     "output_type": "stream",
     "text": [
      "60000it [00:20, 2994.90it/s]\n"
     ]
    },
    {
     "name": "stdout",
     "output_type": "stream",
     "text": [
      "0 :  10\n",
      "1 :  10\n",
      "2 :  10\n",
      "3 :  10\n",
      "4 :  10\n",
      "5 :  10\n",
      "6 :  10\n",
      "7 :  10\n",
      "8 :  10\n",
      "9 :  10\n",
      "[INFO] 0-th class 5923 --> 5421\n",
      "[INFO] 1-th class 6742 --> 5421\n",
      "[INFO] 2-th class 5958 --> 5421\n",
      "[INFO] 3-th class 6131 --> 5421\n",
      "[INFO] 4-th class 5842 --> 5421\n",
      "[INFO] 5-th class 5421 --> 5421\n",
      "[INFO] 6-th class 5918 --> 5421\n",
      "[INFO] 7-th class 6265 --> 5421\n",
      "[INFO] 8-th class 5851 --> 5421\n",
      "[INFO] 9-th class 5949 --> 5421\n"
     ]
    }
   ],
   "source": [
    "# ==== 🔖 Running the Experiment ====\n",
    "CLS_ENTROPY = [[] for i in range(10)] # holder for the entropy for class samples\n",
    "SAMPLE_INDEX = [[] for i in range(10)] #[Role]:???\n",
    "\n",
    "train_dataset = MNISTWarpper(flags.data_path, train=True, transform=torchvision.transforms.ToTensor())\n",
    "train_loader = DataLoader(train_dataset, batch_size=1) #[Role]:???\n",
    "pbar = tqdm(enumerate(train_loader))\n",
    "for i,(x,y) in pbar:\n",
    "    entropy = compute_entropy(x) #[Role]:???\n",
    "    CLS_ENTROPY[y.item()].append(compute_entropy(x))\n",
    "    SAMPLE_INDEX[y.item()].append(i)\n",
    "    # duration = time.strftime(\"%H:%M:%S\", time.gmtime(time.time()-flags.start_time))\n",
    "    # pbar.set_description(f\"[INFO]🧪{__file__}|🍀{flags.save_dir}|⌛️N:({i:.2E}) P:({i / len(train_dataset)*100:.2f}%) D:({duration})|\")\n",
    "\n",
    "for i in range(10):\n",
    "    print(f'{i} :  {len(CLS_ENTROPY[i])}')\n",
    "\n",
    "# post process for saving CLS as tensor\n",
    "MIN_SIZE = min([len(CLS_ENTROPY[i]) for i in range(10)]) #[Role]:???\n",
    "\n",
    "for i in range(10):\n",
    "    print(f\"[INFO] {i}-th class {len(CLS_ENTROPY[i])} --> {MIN_SIZE}\")\n",
    "    CLS_ENTROPY[i] = torch.tensor(CLS_ENTROPY[i][:MIN_SIZE])\n",
    "    SAMPLE_INDEX[i] = SAMPLE_INDEX[i][:MIN_SIZE]\n",
    "CLS_ENTROPY = torch.stack(CLS_ENTROPY)\n",
    "# print(f\"[INFO] '{flags.save_dir}/cls_entropy.pkl' tensor size: {CLS_ENTROPY.size()}\")\n",
    "\n",
    "# # Savae the result \n",
    "# with open(f'{flags.save_dir}/cls_entropy.pkl', 'wb') as f:\n",
    "#     print(f\"[INFO] saved '{flags.save_dir}/cls_entropy.pkl'\")\n",
    "#     pickle.dump(CLS_ENTROPY, f)\n",
    "    \n",
    "# with open(f'{flags.save_dir}/sample_index.pkl', 'wb') as f:\n",
    "#     print(f\"[INFO] saved '{flags.save_dir}/sample_index.pkl'\")\n",
    "#     pickle.dump(SAMPLE_INDEX, f)\n",
    "# OmegaConf.save(flags, f'{flags.save_dir}/config.yaml')"
   ]
  },
  {
   "cell_type": "code",
   "execution_count": 76,
   "metadata": {},
   "outputs": [],
   "source": [
    "a = train_dataset.__getitem__(0)\n",
    "len(a)\n",
    "\n",
    "a1 = a[0]\n",
    "b2 = a[1]\n",
    "# c3= a[2]\n",
    "# # len(a)\n",
    "# print(max(a))\n",
    "# print(sum(a))\n",
    "# # print(min(a))\n",
    "\n",
    "# print(a.type())\n",
    "# # print(a.size())"
   ]
  },
  {
   "cell_type": "code",
   "execution_count": 79,
   "metadata": {},
   "outputs": [
    {
     "data": {
      "text/plain": [
       "5"
      ]
     },
     "execution_count": 79,
     "metadata": {},
     "output_type": "execute_result"
    }
   ],
   "source": [
    "b2"
   ]
  },
  {
   "cell_type": "code",
   "execution_count": 41,
   "metadata": {},
   "outputs": [],
   "source": [
    "import matplotlib.pyplot as plt"
   ]
  },
  {
   "cell_type": "code",
   "execution_count": 78,
   "metadata": {},
   "outputs": [
    {
     "ename": "AttributeError",
     "evalue": "'int' object has no attribute 'squeeze'",
     "output_type": "error",
     "traceback": [
      "\u001b[0;31m---------------------------------------------------------------------------\u001b[0m",
      "\u001b[0;31mAttributeError\u001b[0m                            Traceback (most recent call last)",
      "Cell \u001b[0;32mIn[78], line 4\u001b[0m\n\u001b[1;32m      2\u001b[0m plt\u001b[39m.\u001b[39mimshow(a1\u001b[39m.\u001b[39msqueeze(), cmap\u001b[39m=\u001b[39m\u001b[39m\"\u001b[39m\u001b[39mgray\u001b[39m\u001b[39m\"\u001b[39m)\n\u001b[1;32m      3\u001b[0m plt\u001b[39m.\u001b[39mfigure()\n\u001b[0;32m----> 4\u001b[0m plt\u001b[39m.\u001b[39mimshow(b2\u001b[39m.\u001b[39;49msqueeze(), cmap\u001b[39m=\u001b[39m\u001b[39m\"\u001b[39m\u001b[39mgray\u001b[39m\u001b[39m\"\u001b[39m)\n",
      "\u001b[0;31mAttributeError\u001b[0m: 'int' object has no attribute 'squeeze'"
     ]
    },
    {
     "data": {
      "image/png": "[encoded data removed]",
      "text/plain": [
       "<Figure size 640x480 with 1 Axes>"
      ]
     },
     "metadata": {},
     "output_type": "display_data"
    },
    {
     "data": {
      "text/plain": [
       "<Figure size 640x480 with 0 Axes>"
      ]
     },
     "metadata": {},
     "output_type": "display_data"
    }
   ],
   "source": [
    "plt.figure()\n",
    "plt.imshow(a1.squeeze(), cmap=\"gray\")\n",
    "plt.figure()\n",
    "plt.imshow(b2.squeeze(), cmap=\"gray\")"
   ]
  },
  {
   "cell_type": "code",
   "execution_count": 53,
   "metadata": {},
   "outputs": [
    {
     "data": {
      "text/plain": [
       "tensor([[[0.0000, 0.0000, 0.0000, 0.0000, 0.0000, 0.0000, 0.0000, 0.0000,\n",
       "          0.0000, 0.0000, 0.0000, 0.0000, 0.0000, 0.0000, 0.0000, 0.0000,\n",
       "          0.0000, 0.0000, 0.0000, 0.0000, 0.0000, 0.0000, 0.0000, 0.0000,\n",
       "          0.0000, 0.0000, 0.0000, 0.0000],\n",
       "         [0.0000, 0.0000, 0.0000, 0.0000, 0.0000, 0.0000, 0.0000, 0.0000,\n",
       "          0.0000, 0.0000, 0.0000, 0.0000, 0.0000, 0.0000, 0.0000, 0.0000,\n",
       "          0.0000, 0.0000, 0.0000, 0.0000, 0.0000, 0.0000, 0.0000, 0.0000,\n",
       "          0.0000, 0.0000, 0.0000, 0.0000],\n",
       "         [0.0000, 0.0000, 0.0000, 0.0000, 0.0000, 0.0000, 0.0000, 0.0000,\n",
       "          0.0000, 0.0000, 0.0000, 0.0000, 0.0000, 0.0000, 0.0000, 0.0000,\n",
       "          0.0000, 0.0000, 0.0000, 0.0000, 0.0000, 0.0000, 0.0000, 0.0000,\n",
       "          0.0000, 0.0000, 0.0000, 0.0000],\n",
       "         [0.0000, 0.0000, 0.0000, 0.0000, 0.0000, 0.0000, 0.0000, 0.0000,\n",
       "          0.0000, 0.0000, 0.0000, 0.0000, 0.0000, 0.0000, 0.0000, 0.0000,\n",
       "          0.0000, 0.0000, 0.0000, 0.0000, 0.0000, 0.0000, 0.0000, 0.0000,\n",
       "          0.0000, 0.0000, 0.0000, 0.0000],\n",
       "         [0.0000, 0.0000, 0.0000, 0.0000, 0.0000, 0.0000, 0.0000, 0.0000,\n",
       "          0.0000, 0.0000, 0.0000, 0.0000, 0.0000, 0.0000, 0.0000, 0.0000,\n",
       "          0.0000, 0.0000, 0.0000, 0.0000, 0.0000, 0.0000, 0.0000, 0.0000,\n",
       "          0.0000, 0.0000, 0.0000, 0.0000],\n",
       "         [0.0000, 0.0000, 0.0000, 0.0000, 0.0000, 0.0000, 0.0000, 0.0000,\n",
       "          0.0000, 0.0000, 0.0000, 0.0000, 0.0118, 0.0706, 0.0706, 0.0706,\n",
       "          0.4941, 0.5333, 0.6863, 0.1020, 0.6510, 1.0000, 0.9686, 0.4980,\n",
       "          0.0000, 0.0000, 0.0000, 0.0000],\n",
       "         [0.0000, 0.0000, 0.0000, 0.0000, 0.0000, 0.0000, 0.0000, 0.0000,\n",
       "          0.1176, 0.1412, 0.3686, 0.6039, 0.6667, 0.9922, 0.9922, 0.9922,\n",
       "          0.9922, 0.9922, 0.8824, 0.6745, 0.9922, 0.9490, 0.7647, 0.2510,\n",
       "          0.0000, 0.0000, 0.0000, 0.0000],\n",
       "         [0.0000, 0.0000, 0.0000, 0.0000, 0.0000, 0.0000, 0.0000, 0.1922,\n",
       "          0.9333, 0.9922, 0.9922, 0.9922, 0.9922, 0.9922, 0.9922, 0.9922,\n",
       "          0.9922, 0.9843, 0.3647, 0.3216, 0.3216, 0.2196, 0.1529, 0.0000,\n",
       "          0.0000, 0.0000, 0.0000, 0.0000],\n",
       "         [0.0000, 0.0000, 0.0000, 0.0000, 0.0000, 0.0000, 0.0000, 0.0706,\n",
       "          0.8588, 0.9922, 0.9922, 0.9922, 0.9922, 0.9922, 0.7765, 0.7137,\n",
       "          0.9686, 0.9451, 0.0000, 0.0000, 0.0000, 0.0000, 0.0000, 0.0000,\n",
       "          0.0000, 0.0000, 0.0000, 0.0000],\n",
       "         [0.0000, 0.0000, 0.0000, 0.0000, 0.0000, 0.0000, 0.0000, 0.0000,\n",
       "          0.3137, 0.6118, 0.4196, 0.9922, 0.9922, 0.8039, 0.0431, 0.0000,\n",
       "          0.1686, 0.6039, 0.0000, 0.0000, 0.0000, 0.0000, 0.0000, 0.0000,\n",
       "          0.0000, 0.0000, 0.0000, 0.0000],\n",
       "         [0.0000, 0.0000, 0.0000, 0.0000, 0.0000, 0.0000, 0.0000, 0.0000,\n",
       "          0.0000, 0.0549, 0.0039, 0.6039, 0.9922, 0.3529, 0.0000, 0.0000,\n",
       "          0.0000, 0.0000, 0.0000, 0.0000, 0.0000, 0.0000, 0.0000, 0.0000,\n",
       "          0.0000, 0.0000, 0.0000, 0.0000],\n",
       "         [0.0000, 0.0000, 0.0000, 0.0000, 0.0000, 0.0000, 0.0000, 0.0000,\n",
       "          0.0000, 0.0000, 0.0000, 0.5451, 0.9922, 0.7451, 0.0078, 0.0000,\n",
       "          0.0000, 0.0000, 0.0000, 0.0000, 0.0000, 0.0000, 0.0000, 0.0000,\n",
       "          0.0000, 0.0000, 0.0000, 0.0000],\n",
       "         [0.0000, 0.0000, 0.0000, 0.0000, 0.0000, 0.0000, 0.0000, 0.0000,\n",
       "          0.0000, 0.0000, 0.0000, 0.0431, 0.7451, 0.9922, 0.2745, 0.0000,\n",
       "          0.0000, 0.0000, 0.0000, 0.0000, 0.0000, 0.0000, 0.0000, 0.0000,\n",
       "          0.0000, 0.0000, 0.0000, 0.0000],\n",
       "         [0.0000, 0.0000, 0.0000, 0.0000, 0.0000, 0.0000, 0.0000, 0.0000,\n",
       "          0.0000, 0.0000, 0.0000, 0.0000, 0.1373, 0.9451, 0.8824, 0.6275,\n",
       "          0.4235, 0.0039, 0.0000, 0.0000, 0.0000, 0.0000, 0.0000, 0.0000,\n",
       "          0.0000, 0.0000, 0.0000, 0.0000],\n",
       "         [0.0000, 0.0000, 0.0000, 0.0000, 0.0000, 0.0000, 0.0000, 0.0000,\n",
       "          0.0000, 0.0000, 0.0000, 0.0000, 0.0000, 0.3176, 0.9412, 0.9922,\n",
       "          0.9922, 0.4667, 0.0980, 0.0000, 0.0000, 0.0000, 0.0000, 0.0000,\n",
       "          0.0000, 0.0000, 0.0000, 0.0000],\n",
       "         [0.0000, 0.0000, 0.0000, 0.0000, 0.0000, 0.0000, 0.0000, 0.0000,\n",
       "          0.0000, 0.0000, 0.0000, 0.0000, 0.0000, 0.0000, 0.1765, 0.7294,\n",
       "          0.9922, 0.9922, 0.5882, 0.1059, 0.0000, 0.0000, 0.0000, 0.0000,\n",
       "          0.0000, 0.0000, 0.0000, 0.0000],\n",
       "         [0.0000, 0.0000, 0.0000, 0.0000, 0.0000, 0.0000, 0.0000, 0.0000,\n",
       "          0.0000, 0.0000, 0.0000, 0.0000, 0.0000, 0.0000, 0.0000, 0.0627,\n",
       "          0.3647, 0.9882, 0.9922, 0.7333, 0.0000, 0.0000, 0.0000, 0.0000,\n",
       "          0.0000, 0.0000, 0.0000, 0.0000],\n",
       "         [0.0000, 0.0000, 0.0000, 0.0000, 0.0000, 0.0000, 0.0000, 0.0000,\n",
       "          0.0000, 0.0000, 0.0000, 0.0000, 0.0000, 0.0000, 0.0000, 0.0000,\n",
       "          0.0000, 0.9765, 0.9922, 0.9765, 0.2510, 0.0000, 0.0000, 0.0000,\n",
       "          0.0000, 0.0000, 0.0000, 0.0000],\n",
       "         [0.0000, 0.0000, 0.0000, 0.0000, 0.0000, 0.0000, 0.0000, 0.0000,\n",
       "          0.0000, 0.0000, 0.0000, 0.0000, 0.0000, 0.0000, 0.1804, 0.5098,\n",
       "          0.7176, 0.9922, 0.9922, 0.8118, 0.0078, 0.0000, 0.0000, 0.0000,\n",
       "          0.0000, 0.0000, 0.0000, 0.0000],\n",
       "         [0.0000, 0.0000, 0.0000, 0.0000, 0.0000, 0.0000, 0.0000, 0.0000,\n",
       "          0.0000, 0.0000, 0.0000, 0.0000, 0.1529, 0.5804, 0.8980, 0.9922,\n",
       "          0.9922, 0.9922, 0.9804, 0.7137, 0.0000, 0.0000, 0.0000, 0.0000,\n",
       "          0.0000, 0.0000, 0.0000, 0.0000],\n",
       "         [0.0000, 0.0000, 0.0000, 0.0000, 0.0000, 0.0000, 0.0000, 0.0000,\n",
       "          0.0000, 0.0000, 0.0941, 0.4471, 0.8667, 0.9922, 0.9922, 0.9922,\n",
       "          0.9922, 0.7882, 0.3059, 0.0000, 0.0000, 0.0000, 0.0000, 0.0000,\n",
       "          0.0000, 0.0000, 0.0000, 0.0000],\n",
       "         [0.0000, 0.0000, 0.0000, 0.0000, 0.0000, 0.0000, 0.0000, 0.0000,\n",
       "          0.0902, 0.2588, 0.8353, 0.9922, 0.9922, 0.9922, 0.9922, 0.7765,\n",
       "          0.3176, 0.0078, 0.0000, 0.0000, 0.0000, 0.0000, 0.0000, 0.0000,\n",
       "          0.0000, 0.0000, 0.0000, 0.0000],\n",
       "         [0.0000, 0.0000, 0.0000, 0.0000, 0.0000, 0.0000, 0.0706, 0.6706,\n",
       "          0.8588, 0.9922, 0.9922, 0.9922, 0.9922, 0.7647, 0.3137, 0.0353,\n",
       "          0.0000, 0.0000, 0.0000, 0.0000, 0.0000, 0.0000, 0.0000, 0.0000,\n",
       "          0.0000, 0.0000, 0.0000, 0.0000],\n",
       "         [0.0000, 0.0000, 0.0000, 0.0000, 0.2157, 0.6745, 0.8863, 0.9922,\n",
       "          0.9922, 0.9922, 0.9922, 0.9569, 0.5216, 0.0431, 0.0000, 0.0000,\n",
       "          0.0000, 0.0000, 0.0000, 0.0000, 0.0000, 0.0000, 0.0000, 0.0000,\n",
       "          0.0000, 0.0000, 0.0000, 0.0000],\n",
       "         [0.0000, 0.0000, 0.0000, 0.0000, 0.5333, 0.9922, 0.9922, 0.9922,\n",
       "          0.8314, 0.5294, 0.5176, 0.0627, 0.0000, 0.0000, 0.0000, 0.0000,\n",
       "          0.0000, 0.0000, 0.0000, 0.0000, 0.0000, 0.0000, 0.0000, 0.0000,\n",
       "          0.0000, 0.0000, 0.0000, 0.0000],\n",
       "         [0.0000, 0.0000, 0.0000, 0.0000, 0.0000, 0.0000, 0.0000, 0.0000,\n",
       "          0.0000, 0.0000, 0.0000, 0.0000, 0.0000, 0.0000, 0.0000, 0.0000,\n",
       "          0.0000, 0.0000, 0.0000, 0.0000, 0.0000, 0.0000, 0.0000, 0.0000,\n",
       "          0.0000, 0.0000, 0.0000, 0.0000],\n",
       "         [0.0000, 0.0000, 0.0000, 0.0000, 0.0000, 0.0000, 0.0000, 0.0000,\n",
       "          0.0000, 0.0000, 0.0000, 0.0000, 0.0000, 0.0000, 0.0000, 0.0000,\n",
       "          0.0000, 0.0000, 0.0000, 0.0000, 0.0000, 0.0000, 0.0000, 0.0000,\n",
       "          0.0000, 0.0000, 0.0000, 0.0000],\n",
       "         [0.0000, 0.0000, 0.0000, 0.0000, 0.0000, 0.0000, 0.0000, 0.0000,\n",
       "          0.0000, 0.0000, 0.0000, 0.0000, 0.0000, 0.0000, 0.0000, 0.0000,\n",
       "          0.0000, 0.0000, 0.0000, 0.0000, 0.0000, 0.0000, 0.0000, 0.0000,\n",
       "          0.0000, 0.0000, 0.0000, 0.0000]]])"
      ]
     },
     "execution_count": 53,
     "metadata": {},
     "output_type": "execute_result"
    }
   ],
   "source": [
    "a"
   ]
  },
  {
   "cell_type": "code",
   "execution_count": 60,
   "metadata": {},
   "outputs": [
    {
     "name": "stdout",
     "output_type": "stream",
     "text": [
      "torch.Size([1, 1, 28, 28])\n",
      "torch.Size([784])\n",
      "tensor(1.0000)\n",
      "tensor(107.9412)\n"
     ]
    }
   ],
   "source": [
    "digit_image = a\n",
    "digit_image = digit_image.reshape((1, 1, 28, 28))\n",
    "print(digit_image.size())\n",
    "\n",
    "assert digit_image.size() == (1, 1, 28,28)\n",
    "digit_image = digit_image.flatten()\n",
    "print(digit_image.size())\n",
    "\n",
    "digit_image = digit_image / digit_image.sum() #[Role]:???\n",
    "print(sum(digit_image))\n",
    "print(sum(a.flatten()))"
   ]
  },
  {
   "cell_type": "code",
   "execution_count": 92,
   "metadata": {},
   "outputs": [
    {
     "ename": "AttributeError",
     "evalue": "'tuple' object has no attribute 'size'",
     "output_type": "error",
     "traceback": [
      "\u001b[0;31m---------------------------------------------------------------------------\u001b[0m",
      "\u001b[0;31mAttributeError\u001b[0m                            Traceback (most recent call last)",
      "Cell \u001b[0;32mIn[92], line 1\u001b[0m\n\u001b[0;32m----> 1\u001b[0m a\u001b[39m.\u001b[39;49msize\n",
      "\u001b[0;31mAttributeError\u001b[0m: 'tuple' object has no attribute 'size'"
     ]
    }
   ],
   "source": [
    "a.size"
   ]
  },
  {
   "cell_type": "code",
   "execution_count": 96,
   "metadata": {},
   "outputs": [],
   "source": [
    "def compute_entropy111(digit_image):\n",
    "    # assert digit_image.size() == (1, 1, 28,28)\n",
    "    digit_image = digit_image.flatten()\n",
    "    digit_image = digit_image / digit_image.sum() #[Role]:???\n",
    "    assert abs(digit_image.sum() - 1.0) < 1e-5, digit_image.sum() #[Role]:???\n",
    "    print(digit_image.log())\n",
    "    print(torch.nan_to_num(digit_image.log()))\n",
    "    entropy =  (- digit_image * torch.nan_to_num(digit_image.log())).sum() # \\sum - p log p \n",
    "    print(entropy)\n",
    "    # assert entropy >=0\n",
    "    return entropy \n",
    "\n",
    "def compute_entropy222(digit_image):\n",
    "    # assert digit_image.size() == (1, 1, 28,28)\n",
    "    digit_image = digit_image.flatten()\n",
    "    # digit_image = digit_image / digit_image.sum() #[Role]:???\n",
    "    # assert abs(digit_image.sum() - 1.0) < 1e-5, digit_image.sum() #[Role]:???\n",
    "    print(digit_image.log())\n",
    "    print(torch.nan_to_num(digit_image.log()))\n",
    "    entropy =  (- digit_image * torch.nan_to_num(digit_image.log())).sum() # \\sum - p log p \n",
    "    print(entropy)\n",
    "    # assert entropy >=0\n",
    "    return entropy "
   ]
  },
  {
   "cell_type": "code",
   "execution_count": 101,
   "metadata": {},
   "outputs": [
    {
     "name": "stdout",
     "output_type": "stream",
     "text": [
      "tensor([   -inf,    -inf,    -inf,    -inf,    -inf,    -inf,    -inf,    -inf,\n",
      "           -inf,    -inf,    -inf,    -inf,    -inf,    -inf,    -inf,    -inf,\n",
      "           -inf,    -inf,    -inf,    -inf,    -inf,    -inf,    -inf,    -inf,\n",
      "           -inf,    -inf,    -inf,    -inf,    -inf,    -inf,    -inf,    -inf,\n",
      "           -inf,    -inf,    -inf,    -inf,    -inf,    -inf,    -inf,    -inf,\n",
      "           -inf,    -inf,    -inf,    -inf,    -inf,    -inf,    -inf,    -inf,\n",
      "           -inf,    -inf,    -inf,    -inf,    -inf,    -inf,    -inf,    -inf,\n",
      "           -inf,    -inf,    -inf,    -inf,    -inf,    -inf,    -inf,    -inf,\n",
      "           -inf,    -inf,    -inf,    -inf,    -inf,    -inf,    -inf,    -inf,\n",
      "           -inf,    -inf,    -inf,    -inf,    -inf,    -inf,    -inf,    -inf,\n",
      "           -inf,    -inf,    -inf,    -inf,    -inf,    -inf,    -inf,    -inf,\n",
      "           -inf,    -inf,    -inf,    -inf,    -inf,    -inf,    -inf,    -inf,\n",
      "           -inf,    -inf,    -inf,    -inf,    -inf,    -inf,    -inf,    -inf,\n",
      "           -inf,    -inf,    -inf,    -inf,    -inf,    -inf,    -inf,    -inf,\n",
      "           -inf,    -inf,    -inf,    -inf,    -inf,    -inf,    -inf,    -inf,\n",
      "           -inf,    -inf,    -inf,    -inf,    -inf,    -inf,    -inf,    -inf,\n",
      "           -inf,    -inf,    -inf,    -inf,    -inf,    -inf,    -inf,    -inf,\n",
      "           -inf,    -inf,    -inf,    -inf,    -inf,    -inf,    -inf,    -inf,\n",
      "           -inf,    -inf,    -inf,    -inf,    -inf,    -inf,    -inf,    -inf,\n",
      "        -4.4427, -2.6509, -2.6509, -2.6509, -0.7050, -0.6286, -0.3765, -2.2832,\n",
      "        -0.4293,  0.0000, -0.0319, -0.6971,    -inf,    -inf,    -inf,    -inf,\n",
      "           -inf,    -inf,    -inf,    -inf,    -inf,    -inf,    -inf,    -inf,\n",
      "        -2.1401, -1.9577, -0.9980, -0.5043, -0.4055, -0.0079, -0.0079, -0.0079,\n",
      "        -0.0079, -0.0079, -0.1252, -0.3938, -0.0079, -0.0523, -0.2683, -1.3824,\n",
      "           -inf,    -inf,    -inf,    -inf,    -inf,    -inf,    -inf,    -inf,\n",
      "           -inf,    -inf,    -inf, -1.6494, -0.0690, -0.0079, -0.0079, -0.0079,\n",
      "        -0.0079, -0.0079, -0.0079, -0.0079, -0.0079, -0.0158, -1.0087, -1.1345,\n",
      "        -1.1345, -1.5159, -1.8777,    -inf,    -inf,    -inf,    -inf,    -inf,\n",
      "           -inf,    -inf,    -inf,    -inf,    -inf,    -inf,    -inf, -2.6509,\n",
      "        -0.1522, -0.0079, -0.0079, -0.0079, -0.0079, -0.0079, -0.2530, -0.3373,\n",
      "        -0.0319, -0.0565,    -inf,    -inf,    -inf,    -inf,    -inf,    -inf,\n",
      "           -inf,    -inf,    -inf,    -inf,    -inf,    -inf,    -inf,    -inf,\n",
      "           -inf,    -inf,    -inf,    -inf, -1.1592, -0.4914, -0.8684, -0.0079,\n",
      "        -0.0079, -0.2183, -3.1434,    -inf, -1.7801, -0.5043,    -inf,    -inf,\n",
      "           -inf,    -inf,    -inf,    -inf,    -inf,    -inf,    -inf,    -inf,\n",
      "           -inf,    -inf,    -inf,    -inf,    -inf,    -inf,    -inf,    -inf,\n",
      "           -inf, -2.9022, -5.5413, -0.5043, -0.0079, -1.0415,    -inf,    -inf,\n",
      "           -inf,    -inf,    -inf,    -inf,    -inf,    -inf,    -inf,    -inf,\n",
      "           -inf,    -inf,    -inf,    -inf,    -inf,    -inf,    -inf,    -inf,\n",
      "           -inf,    -inf,    -inf,    -inf,    -inf,    -inf,    -inf, -0.6068,\n",
      "        -0.0079, -0.2942, -4.8481,    -inf,    -inf,    -inf,    -inf,    -inf,\n",
      "           -inf,    -inf,    -inf,    -inf,    -inf,    -inf,    -inf,    -inf,\n",
      "           -inf,    -inf,    -inf,    -inf,    -inf,    -inf,    -inf,    -inf,\n",
      "           -inf,    -inf,    -inf, -3.1434, -0.2942, -0.0079, -1.2928,    -inf,\n",
      "           -inf,    -inf,    -inf,    -inf,    -inf,    -inf,    -inf,    -inf,\n",
      "           -inf,    -inf,    -inf,    -inf,    -inf,    -inf,    -inf,    -inf,\n",
      "           -inf,    -inf,    -inf,    -inf,    -inf,    -inf,    -inf,    -inf,\n",
      "        -1.9859, -0.0565, -0.1252, -0.4661, -0.8591, -5.5413,    -inf,    -inf,\n",
      "           -inf,    -inf,    -inf,    -inf,    -inf,    -inf,    -inf,    -inf,\n",
      "           -inf,    -inf,    -inf,    -inf,    -inf,    -inf,    -inf,    -inf,\n",
      "           -inf,    -inf,    -inf,    -inf,    -inf, -1.1468, -0.0606, -0.0079,\n",
      "        -0.0079, -0.7621, -2.3224,    -inf,    -inf,    -inf,    -inf,    -inf,\n",
      "           -inf,    -inf,    -inf,    -inf,    -inf,    -inf,    -inf,    -inf,\n",
      "           -inf,    -inf,    -inf,    -inf,    -inf,    -inf,    -inf,    -inf,\n",
      "           -inf,    -inf, -1.7346, -0.3155, -0.0079, -0.0079, -0.5306, -2.2454,\n",
      "           -inf,    -inf,    -inf,    -inf,    -inf,    -inf,    -inf,    -inf,\n",
      "           -inf,    -inf,    -inf,    -inf,    -inf,    -inf,    -inf,    -inf,\n",
      "           -inf,    -inf,    -inf,    -inf,    -inf,    -inf,    -inf, -2.7687,\n",
      "        -1.0087, -0.0118, -0.0079, -0.3102,    -inf,    -inf,    -inf,    -inf,\n",
      "           -inf,    -inf,    -inf,    -inf,    -inf,    -inf,    -inf,    -inf,\n",
      "           -inf,    -inf,    -inf,    -inf,    -inf,    -inf,    -inf,    -inf,\n",
      "           -inf,    -inf,    -inf,    -inf,    -inf, -0.0238, -0.0079, -0.0238,\n",
      "        -1.3824,    -inf,    -inf,    -inf,    -inf,    -inf,    -inf,    -inf,\n",
      "           -inf,    -inf,    -inf,    -inf,    -inf,    -inf,    -inf,    -inf,\n",
      "           -inf,    -inf,    -inf,    -inf,    -inf,    -inf, -1.7126, -0.6737,\n",
      "        -0.3318, -0.0079, -0.0079, -0.2085, -4.8481,    -inf,    -inf,    -inf,\n",
      "           -inf,    -inf,    -inf,    -inf,    -inf,    -inf,    -inf,    -inf,\n",
      "           -inf,    -inf,    -inf,    -inf,    -inf,    -inf,    -inf,    -inf,\n",
      "        -1.8777, -0.5441, -0.1075, -0.0079, -0.0079, -0.0079, -0.0198, -0.3373,\n",
      "           -inf,    -inf,    -inf,    -inf,    -inf,    -inf,    -inf,    -inf,\n",
      "           -inf,    -inf,    -inf,    -inf,    -inf,    -inf,    -inf,    -inf,\n",
      "           -inf,    -inf, -2.3632, -0.8051, -0.1431, -0.0079, -0.0079, -0.0079,\n",
      "        -0.0079, -0.2380, -1.1846,    -inf,    -inf,    -inf,    -inf,    -inf,\n",
      "           -inf,    -inf,    -inf,    -inf,    -inf,    -inf,    -inf,    -inf,\n",
      "           -inf,    -inf,    -inf,    -inf, -2.4058, -1.3516, -0.1800, -0.0079,\n",
      "        -0.0079, -0.0079, -0.0079, -0.2530, -1.1468, -4.8481,    -inf,    -inf,\n",
      "           -inf,    -inf,    -inf,    -inf,    -inf,    -inf,    -inf,    -inf,\n",
      "           -inf,    -inf,    -inf,    -inf,    -inf,    -inf, -2.6509, -0.3996,\n",
      "        -0.1522, -0.0079, -0.0079, -0.0079, -0.0079, -0.2683, -1.1592, -3.3440,\n",
      "           -inf,    -inf,    -inf,    -inf,    -inf,    -inf,    -inf,    -inf,\n",
      "           -inf,    -inf,    -inf,    -inf,    -inf,    -inf,    -inf,    -inf,\n",
      "        -1.5339, -0.3938, -0.1207, -0.0079, -0.0079, -0.0079, -0.0079, -0.0441,\n",
      "        -0.6509, -3.1434,    -inf,    -inf,    -inf,    -inf,    -inf,    -inf,\n",
      "           -inf,    -inf,    -inf,    -inf,    -inf,    -inf,    -inf,    -inf,\n",
      "           -inf,    -inf,    -inf,    -inf, -0.6286, -0.0079, -0.0079, -0.0079,\n",
      "        -0.1847, -0.6360, -0.6585, -2.7687,    -inf,    -inf,    -inf,    -inf,\n",
      "           -inf,    -inf,    -inf,    -inf,    -inf,    -inf,    -inf,    -inf,\n",
      "           -inf,    -inf,    -inf,    -inf,    -inf,    -inf,    -inf,    -inf,\n",
      "           -inf,    -inf,    -inf,    -inf,    -inf,    -inf,    -inf,    -inf,\n",
      "           -inf,    -inf,    -inf,    -inf,    -inf,    -inf,    -inf,    -inf,\n",
      "           -inf,    -inf,    -inf,    -inf,    -inf,    -inf,    -inf,    -inf,\n",
      "           -inf,    -inf,    -inf,    -inf,    -inf,    -inf,    -inf,    -inf,\n",
      "           -inf,    -inf,    -inf,    -inf,    -inf,    -inf,    -inf,    -inf,\n",
      "           -inf,    -inf,    -inf,    -inf,    -inf,    -inf,    -inf,    -inf,\n",
      "           -inf,    -inf,    -inf,    -inf,    -inf,    -inf,    -inf,    -inf,\n",
      "           -inf,    -inf,    -inf,    -inf,    -inf,    -inf,    -inf,    -inf,\n",
      "           -inf,    -inf,    -inf,    -inf,    -inf,    -inf,    -inf,    -inf,\n",
      "           -inf,    -inf,    -inf,    -inf,    -inf,    -inf,    -inf,    -inf])\n",
      "tensor([-3.4028e+38, -3.4028e+38, -3.4028e+38, -3.4028e+38, -3.4028e+38,\n",
      "        -3.4028e+38, -3.4028e+38, -3.4028e+38, -3.4028e+38, -3.4028e+38,\n",
      "        -3.4028e+38, -3.4028e+38, -3.4028e+38, -3.4028e+38, -3.4028e+38,\n",
      "        -3.4028e+38, -3.4028e+38, -3.4028e+38, -3.4028e+38, -3.4028e+38,\n",
      "        -3.4028e+38, -3.4028e+38, -3.4028e+38, -3.4028e+38, -3.4028e+38,\n",
      "        -3.4028e+38, -3.4028e+38, -3.4028e+38, -3.4028e+38, -3.4028e+38,\n",
      "        -3.4028e+38, -3.4028e+38, -3.4028e+38, -3.4028e+38, -3.4028e+38,\n",
      "        -3.4028e+38, -3.4028e+38, -3.4028e+38, -3.4028e+38, -3.4028e+38,\n",
      "        -3.4028e+38, -3.4028e+38, -3.4028e+38, -3.4028e+38, -3.4028e+38,\n",
      "        -3.4028e+38, -3.4028e+38, -3.4028e+38, -3.4028e+38, -3.4028e+38,\n",
      "        -3.4028e+38, -3.4028e+38, -3.4028e+38, -3.4028e+38, -3.4028e+38,\n",
      "        -3.4028e+38, -3.4028e+38, -3.4028e+38, -3.4028e+38, -3.4028e+38,\n",
      "        -3.4028e+38, -3.4028e+38, -3.4028e+38, -3.4028e+38, -3.4028e+38,\n",
      "        -3.4028e+38, -3.4028e+38, -3.4028e+38, -3.4028e+38, -3.4028e+38,\n",
      "        -3.4028e+38, -3.4028e+38, -3.4028e+38, -3.4028e+38, -3.4028e+38,\n",
      "        -3.4028e+38, -3.4028e+38, -3.4028e+38, -3.4028e+38, -3.4028e+38,\n",
      "        -3.4028e+38, -3.4028e+38, -3.4028e+38, -3.4028e+38, -3.4028e+38,\n",
      "        -3.4028e+38, -3.4028e+38, -3.4028e+38, -3.4028e+38, -3.4028e+38,\n",
      "        -3.4028e+38, -3.4028e+38, -3.4028e+38, -3.4028e+38, -3.4028e+38,\n",
      "        -3.4028e+38, -3.4028e+38, -3.4028e+38, -3.4028e+38, -3.4028e+38,\n",
      "        -3.4028e+38, -3.4028e+38, -3.4028e+38, -3.4028e+38, -3.4028e+38,\n",
      "        -3.4028e+38, -3.4028e+38, -3.4028e+38, -3.4028e+38, -3.4028e+38,\n",
      "        -3.4028e+38, -3.4028e+38, -3.4028e+38, -3.4028e+38, -3.4028e+38,\n",
      "        -3.4028e+38, -3.4028e+38, -3.4028e+38, -3.4028e+38, -3.4028e+38,\n",
      "        -3.4028e+38, -3.4028e+38, -3.4028e+38, -3.4028e+38, -3.4028e+38,\n",
      "        -3.4028e+38, -3.4028e+38, -3.4028e+38, -3.4028e+38, -3.4028e+38,\n",
      "        -3.4028e+38, -3.4028e+38, -3.4028e+38, -3.4028e+38, -3.4028e+38,\n",
      "        -3.4028e+38, -3.4028e+38, -3.4028e+38, -3.4028e+38, -3.4028e+38,\n",
      "        -3.4028e+38, -3.4028e+38, -3.4028e+38, -3.4028e+38, -3.4028e+38,\n",
      "        -3.4028e+38, -3.4028e+38, -3.4028e+38, -3.4028e+38, -3.4028e+38,\n",
      "        -3.4028e+38, -3.4028e+38, -4.4427e+00, -2.6509e+00, -2.6509e+00,\n",
      "        -2.6509e+00, -7.0498e-01, -6.2861e-01, -3.7648e-01, -2.2832e+00,\n",
      "        -4.2928e-01,  0.0000e+00, -3.1875e-02, -6.9708e-01, -3.4028e+38,\n",
      "        -3.4028e+38, -3.4028e+38, -3.4028e+38, -3.4028e+38, -3.4028e+38,\n",
      "        -3.4028e+38, -3.4028e+38, -3.4028e+38, -3.4028e+38, -3.4028e+38,\n",
      "        -3.4028e+38, -2.1401e+00, -1.9577e+00, -9.9797e-01, -5.0431e-01,\n",
      "        -4.0547e-01, -7.8741e-03, -7.8741e-03, -7.8741e-03, -7.8741e-03,\n",
      "        -7.8741e-03, -1.2516e-01, -3.9377e-01, -7.8741e-03, -5.2326e-02,\n",
      "        -2.6826e-01, -1.3824e+00, -3.4028e+38, -3.4028e+38, -3.4028e+38,\n",
      "        -3.4028e+38, -3.4028e+38, -3.4028e+38, -3.4028e+38, -3.4028e+38,\n",
      "        -3.4028e+38, -3.4028e+38, -3.4028e+38, -1.6494e+00, -6.8993e-02,\n",
      "        -7.8741e-03, -7.8741e-03, -7.8741e-03, -7.8741e-03, -7.8741e-03,\n",
      "        -7.8741e-03, -7.8741e-03, -7.8741e-03, -1.5811e-02, -1.0087e+00,\n",
      "        -1.1345e+00, -1.1345e+00, -1.5159e+00, -1.8777e+00, -3.4028e+38,\n",
      "        -3.4028e+38, -3.4028e+38, -3.4028e+38, -3.4028e+38, -3.4028e+38,\n",
      "        -3.4028e+38, -3.4028e+38, -3.4028e+38, -3.4028e+38, -3.4028e+38,\n",
      "        -3.4028e+38, -2.6509e+00, -1.5219e-01, -7.8741e-03, -7.8741e-03,\n",
      "        -7.8741e-03, -7.8741e-03, -7.8741e-03, -2.5300e-01, -3.3726e-01,\n",
      "        -3.1875e-02, -5.6467e-02, -3.4028e+38, -3.4028e+38, -3.4028e+38,\n",
      "        -3.4028e+38, -3.4028e+38, -3.4028e+38, -3.4028e+38, -3.4028e+38,\n",
      "        -3.4028e+38, -3.4028e+38, -3.4028e+38, -3.4028e+38, -3.4028e+38,\n",
      "        -3.4028e+38, -3.4028e+38, -3.4028e+38, -3.4028e+38, -3.4028e+38,\n",
      "        -1.1592e+00, -4.9141e-01, -8.6843e-01, -7.8741e-03, -7.8741e-03,\n",
      "        -2.1825e-01, -3.1434e+00, -3.4028e+38, -1.7801e+00, -5.0431e-01,\n",
      "        -3.4028e+38, -3.4028e+38, -3.4028e+38, -3.4028e+38, -3.4028e+38,\n",
      "        -3.4028e+38, -3.4028e+38, -3.4028e+38, -3.4028e+38, -3.4028e+38,\n",
      "        -3.4028e+38, -3.4028e+38, -3.4028e+38, -3.4028e+38, -3.4028e+38,\n",
      "        -3.4028e+38, -3.4028e+38, -3.4028e+38, -3.4028e+38, -2.9022e+00,\n",
      "        -5.5413e+00, -5.0431e-01, -7.8741e-03, -1.0415e+00, -3.4028e+38,\n",
      "        -3.4028e+38, -3.4028e+38, -3.4028e+38, -3.4028e+38, -3.4028e+38,\n",
      "        -3.4028e+38, -3.4028e+38, -3.4028e+38, -3.4028e+38, -3.4028e+38,\n",
      "        -3.4028e+38, -3.4028e+38, -3.4028e+38, -3.4028e+38, -3.4028e+38,\n",
      "        -3.4028e+38, -3.4028e+38, -3.4028e+38, -3.4028e+38, -3.4028e+38,\n",
      "        -3.4028e+38, -3.4028e+38, -3.4028e+38, -3.4028e+38, -6.0679e-01,\n",
      "        -7.8741e-03, -2.9424e-01, -4.8481e+00, -3.4028e+38, -3.4028e+38,\n",
      "        -3.4028e+38, -3.4028e+38, -3.4028e+38, -3.4028e+38, -3.4028e+38,\n",
      "        -3.4028e+38, -3.4028e+38, -3.4028e+38, -3.4028e+38, -3.4028e+38,\n",
      "        -3.4028e+38, -3.4028e+38, -3.4028e+38, -3.4028e+38, -3.4028e+38,\n",
      "        -3.4028e+38, -3.4028e+38, -3.4028e+38, -3.4028e+38, -3.4028e+38,\n",
      "        -3.4028e+38, -3.4028e+38, -3.1434e+00, -2.9424e-01, -7.8741e-03,\n",
      "        -1.2928e+00, -3.4028e+38, -3.4028e+38, -3.4028e+38, -3.4028e+38,\n",
      "        -3.4028e+38, -3.4028e+38, -3.4028e+38, -3.4028e+38, -3.4028e+38,\n",
      "        -3.4028e+38, -3.4028e+38, -3.4028e+38, -3.4028e+38, -3.4028e+38,\n",
      "        -3.4028e+38, -3.4028e+38, -3.4028e+38, -3.4028e+38, -3.4028e+38,\n",
      "        -3.4028e+38, -3.4028e+38, -3.4028e+38, -3.4028e+38, -3.4028e+38,\n",
      "        -3.4028e+38, -1.9859e+00, -5.6467e-02, -1.2516e-01, -4.6609e-01,\n",
      "        -8.5913e-01, -5.5413e+00, -3.4028e+38, -3.4028e+38, -3.4028e+38,\n",
      "        -3.4028e+38, -3.4028e+38, -3.4028e+38, -3.4028e+38, -3.4028e+38,\n",
      "        -3.4028e+38, -3.4028e+38, -3.4028e+38, -3.4028e+38, -3.4028e+38,\n",
      "        -3.4028e+38, -3.4028e+38, -3.4028e+38, -3.4028e+38, -3.4028e+38,\n",
      "        -3.4028e+38, -3.4028e+38, -3.4028e+38, -3.4028e+38, -3.4028e+38,\n",
      "        -1.1468e+00, -6.0625e-02, -7.8741e-03, -7.8741e-03, -7.6214e-01,\n",
      "        -2.3224e+00, -3.4028e+38, -3.4028e+38, -3.4028e+38, -3.4028e+38,\n",
      "        -3.4028e+38, -3.4028e+38, -3.4028e+38, -3.4028e+38, -3.4028e+38,\n",
      "        -3.4028e+38, -3.4028e+38, -3.4028e+38, -3.4028e+38, -3.4028e+38,\n",
      "        -3.4028e+38, -3.4028e+38, -3.4028e+38, -3.4028e+38, -3.4028e+38,\n",
      "        -3.4028e+38, -3.4028e+38, -3.4028e+38, -3.4028e+38, -1.7346e+00,\n",
      "        -3.1552e-01, -7.8741e-03, -7.8741e-03, -5.3063e-01, -2.2454e+00,\n",
      "        -3.4028e+38, -3.4028e+38, -3.4028e+38, -3.4028e+38, -3.4028e+38,\n",
      "        -3.4028e+38, -3.4028e+38, -3.4028e+38, -3.4028e+38, -3.4028e+38,\n",
      "        -3.4028e+38, -3.4028e+38, -3.4028e+38, -3.4028e+38, -3.4028e+38,\n",
      "        -3.4028e+38, -3.4028e+38, -3.4028e+38, -3.4028e+38, -3.4028e+38,\n",
      "        -3.4028e+38, -3.4028e+38, -3.4028e+38, -2.7687e+00, -1.0087e+00,\n",
      "        -1.1834e-02, -7.8741e-03, -3.1015e-01, -3.4028e+38, -3.4028e+38,\n",
      "        -3.4028e+38, -3.4028e+38, -3.4028e+38, -3.4028e+38, -3.4028e+38,\n",
      "        -3.4028e+38, -3.4028e+38, -3.4028e+38, -3.4028e+38, -3.4028e+38,\n",
      "        -3.4028e+38, -3.4028e+38, -3.4028e+38, -3.4028e+38, -3.4028e+38,\n",
      "        -3.4028e+38, -3.4028e+38, -3.4028e+38, -3.4028e+38, -3.4028e+38,\n",
      "        -3.4028e+38, -3.4028e+38, -3.4028e+38, -2.3811e-02, -7.8741e-03,\n",
      "        -2.3811e-02, -1.3824e+00, -3.4028e+38, -3.4028e+38, -3.4028e+38,\n",
      "        -3.4028e+38, -3.4028e+38, -3.4028e+38, -3.4028e+38, -3.4028e+38,\n",
      "        -3.4028e+38, -3.4028e+38, -3.4028e+38, -3.4028e+38, -3.4028e+38,\n",
      "        -3.4028e+38, -3.4028e+38, -3.4028e+38, -3.4028e+38, -3.4028e+38,\n",
      "        -3.4028e+38, -3.4028e+38, -3.4028e+38, -1.7126e+00, -6.7373e-01,\n",
      "        -3.3178e-01, -7.8741e-03, -7.8741e-03, -2.0854e-01, -4.8481e+00,\n",
      "        -3.4028e+38, -3.4028e+38, -3.4028e+38, -3.4028e+38, -3.4028e+38,\n",
      "        -3.4028e+38, -3.4028e+38, -3.4028e+38, -3.4028e+38, -3.4028e+38,\n",
      "        -3.4028e+38, -3.4028e+38, -3.4028e+38, -3.4028e+38, -3.4028e+38,\n",
      "        -3.4028e+38, -3.4028e+38, -3.4028e+38, -3.4028e+38, -1.8777e+00,\n",
      "        -5.4405e-01, -1.0754e-01, -7.8741e-03, -7.8741e-03, -7.8741e-03,\n",
      "        -1.9803e-02, -3.3726e-01, -3.4028e+38, -3.4028e+38, -3.4028e+38,\n",
      "        -3.4028e+38, -3.4028e+38, -3.4028e+38, -3.4028e+38, -3.4028e+38,\n",
      "        -3.4028e+38, -3.4028e+38, -3.4028e+38, -3.4028e+38, -3.4028e+38,\n",
      "        -3.4028e+38, -3.4028e+38, -3.4028e+38, -3.4028e+38, -3.4028e+38,\n",
      "        -2.3632e+00, -8.0507e-01, -1.4310e-01, -7.8741e-03, -7.8741e-03,\n",
      "        -7.8741e-03, -7.8741e-03, -2.3796e-01, -1.1846e+00, -3.4028e+38,\n",
      "        -3.4028e+38, -3.4028e+38, -3.4028e+38, -3.4028e+38, -3.4028e+38,\n",
      "        -3.4028e+38, -3.4028e+38, -3.4028e+38, -3.4028e+38, -3.4028e+38,\n",
      "        -3.4028e+38, -3.4028e+38, -3.4028e+38, -3.4028e+38, -3.4028e+38,\n",
      "        -3.4028e+38, -2.4058e+00, -1.3516e+00, -1.7997e-01, -7.8741e-03,\n",
      "        -7.8741e-03, -7.8741e-03, -7.8741e-03, -2.5300e-01, -1.1468e+00,\n",
      "        -4.8481e+00, -3.4028e+38, -3.4028e+38, -3.4028e+38, -3.4028e+38,\n",
      "        -3.4028e+38, -3.4028e+38, -3.4028e+38, -3.4028e+38, -3.4028e+38,\n",
      "        -3.4028e+38, -3.4028e+38, -3.4028e+38, -3.4028e+38, -3.4028e+38,\n",
      "        -3.4028e+38, -3.4028e+38, -2.6509e+00, -3.9960e-01, -1.5219e-01,\n",
      "        -7.8741e-03, -7.8741e-03, -7.8741e-03, -7.8741e-03, -2.6826e-01,\n",
      "        -1.1592e+00, -3.3440e+00, -3.4028e+38, -3.4028e+38, -3.4028e+38,\n",
      "        -3.4028e+38, -3.4028e+38, -3.4028e+38, -3.4028e+38, -3.4028e+38,\n",
      "        -3.4028e+38, -3.4028e+38, -3.4028e+38, -3.4028e+38, -3.4028e+38,\n",
      "        -3.4028e+38, -3.4028e+38, -3.4028e+38, -1.5339e+00, -3.9377e-01,\n",
      "        -1.2073e-01, -7.8741e-03, -7.8741e-03, -7.8741e-03, -7.8741e-03,\n",
      "        -4.4095e-02, -6.5091e-01, -3.1434e+00, -3.4028e+38, -3.4028e+38,\n",
      "        -3.4028e+38, -3.4028e+38, -3.4028e+38, -3.4028e+38, -3.4028e+38,\n",
      "        -3.4028e+38, -3.4028e+38, -3.4028e+38, -3.4028e+38, -3.4028e+38,\n",
      "        -3.4028e+38, -3.4028e+38, -3.4028e+38, -3.4028e+38, -3.4028e+38,\n",
      "        -3.4028e+38, -6.2861e-01, -7.8741e-03, -7.8741e-03, -7.8741e-03,\n",
      "        -1.8468e-01, -6.3599e-01, -6.5846e-01, -2.7687e+00, -3.4028e+38,\n",
      "        -3.4028e+38, -3.4028e+38, -3.4028e+38, -3.4028e+38, -3.4028e+38,\n",
      "        -3.4028e+38, -3.4028e+38, -3.4028e+38, -3.4028e+38, -3.4028e+38,\n",
      "        -3.4028e+38, -3.4028e+38, -3.4028e+38, -3.4028e+38, -3.4028e+38,\n",
      "        -3.4028e+38, -3.4028e+38, -3.4028e+38, -3.4028e+38, -3.4028e+38,\n",
      "        -3.4028e+38, -3.4028e+38, -3.4028e+38, -3.4028e+38, -3.4028e+38,\n",
      "        -3.4028e+38, -3.4028e+38, -3.4028e+38, -3.4028e+38, -3.4028e+38,\n",
      "        -3.4028e+38, -3.4028e+38, -3.4028e+38, -3.4028e+38, -3.4028e+38,\n",
      "        -3.4028e+38, -3.4028e+38, -3.4028e+38, -3.4028e+38, -3.4028e+38,\n",
      "        -3.4028e+38, -3.4028e+38, -3.4028e+38, -3.4028e+38, -3.4028e+38,\n",
      "        -3.4028e+38, -3.4028e+38, -3.4028e+38, -3.4028e+38, -3.4028e+38,\n",
      "        -3.4028e+38, -3.4028e+38, -3.4028e+38, -3.4028e+38, -3.4028e+38,\n",
      "        -3.4028e+38, -3.4028e+38, -3.4028e+38, -3.4028e+38, -3.4028e+38,\n",
      "        -3.4028e+38, -3.4028e+38, -3.4028e+38, -3.4028e+38, -3.4028e+38,\n",
      "        -3.4028e+38, -3.4028e+38, -3.4028e+38, -3.4028e+38, -3.4028e+38,\n",
      "        -3.4028e+38, -3.4028e+38, -3.4028e+38, -3.4028e+38, -3.4028e+38,\n",
      "        -3.4028e+38, -3.4028e+38, -3.4028e+38, -3.4028e+38, -3.4028e+38,\n",
      "        -3.4028e+38, -3.4028e+38, -3.4028e+38, -3.4028e+38, -3.4028e+38,\n",
      "        -3.4028e+38, -3.4028e+38, -3.4028e+38, -3.4028e+38, -3.4028e+38,\n",
      "        -3.4028e+38, -3.4028e+38, -3.4028e+38, -3.4028e+38, -3.4028e+38,\n",
      "        -3.4028e+38, -3.4028e+38, -3.4028e+38, -3.4028e+38])\n",
      "tensor(25.2081)\n"
     ]
    },
    {
     "data": {
      "text/plain": [
       "tensor(25.2081)"
      ]
     },
     "execution_count": 101,
     "metadata": {},
     "output_type": "execute_result"
    }
   ],
   "source": [
    "a1 = a[0]\n",
    "a2 = a[0]\n",
    "\n",
    "# compute_entropy111(a1)\n",
    "compute_entropy222(a2)"
   ]
  },
  {
   "cell_type": "code",
   "execution_count": null,
   "metadata": {},
   "outputs": [],
   "source": []
  }
 ],
 "metadata": {
  "kernelspec": {
   "display_name": "Python 3 (ipykernel)",
   "language": "python",
   "name": "python3"
  },
  "language_info": {
   "codemirror_mode": {
    "name": "ipython",
    "version": 3
   },
   "file_extension": ".py",
   "mimetype": "text/x-python",
   "name": "python",
   "nbconvert_exporter": "python",
   "pygments_lexer": "ipython3",
   "version": "3.8.13"
  },
  "vscode": {
   "interpreter": {
    "hash": "b036c47a88b6801bd1214d95b23982f260fad58004fa31cc4ee261405de95658"
   }
  }
 },
 "nbformat": 4,
 "nbformat_minor": 4
}
